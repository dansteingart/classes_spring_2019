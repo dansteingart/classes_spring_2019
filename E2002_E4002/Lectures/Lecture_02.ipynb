{
 "cells": [
  {
   "cell_type": "markdown",
   "metadata": {},
   "source": [
    "# Lecture 02 - The Basics"
   ]
  },
  {
   "cell_type": "markdown",
   "metadata": {},
   "source": [
    "But First, The Basics\n",
    "\n",
    "All of the energy that we can ever have access to was created during the big bang. There has been more creation of energy. If I am to be completely honest, it wasn't even created there, it was just converted at that point. But since we don't really know happened before big bang, we'll mark that our $t_0$. \n",
    "\n",
    "But let's start smaller. \n",
    "\n",
    "Energy is a loosely defined term in popular use, but in science and engineering the term has a firm definitions and critical implications.  Let's give a firm and critical reason.\n",
    "\n",
    "It's a Friday afternoon.  You've had a hard week.  You and some friends go to the shore to go on a fishing trip - a three hour tour - only to be swept up into a storm and ship-wrecked on heretofore undiscovered island made of empty cologne bottles 20 miles east of seaside heights.\n",
    "\n",
    "The only thing that survived the wreck are a radio, a small electric motor, and some rope and some pulleys.  On the island is a large hill made up of discarded teddy bears won in from vendors on the boardwalk only to be forgotten by history.  All of the batteries are destroyed and fuel is all gone. You do have various 10 to 50 pound lead weight used to balance out the boat.  \n",
    "\n",
    "How do we get a message to shore with the radio if we have not fuel or batteries?\n",
    "Let's lift the weights up Teddy Bear hill and rig a pulley with the motor to power the radio.  How much energy can we provide to the radio, and how much power? \n",
    "\n",
    "You can choose to examine every use case, or you can use what you've learned in this class to figure out the maximum height you could ever reach independently of the mechanism you choose to employ.  \n",
    "\n",
    "Our textbook invokes a narrow definition of energy initially (chapter 2.1), beginning with force, such that\n",
    "\n",
    "\n",
    "$$F =m*\\frac{dV}{dt}=ma$$\n",
    "\n",
    "But let's consider this slightly differently, rather than a function of acceleration, a function of position.  So\n",
    "\n",
    "$$F =m*\\frac{dV}{ds}*\\frac{ds}{dt}=mV{dV}{ds}$$\n",
    "\n",
    "Let us arrange like variables and integrate:\n",
    "\n",
    "$$\\int_{s1}^{s2} F ds =\\int_{V1}^{V2}m*V dV$$\n",
    "\n",
    "For our system let us assume mass and force are constant.  A rock falling, perhaps.  \n",
    "\n",
    "$$F \\Delta s =\\frac{1}{2}m(V_2^2-V_1^2) $$\n",
    "\n",
    "The term on the right hand side is referred to as kinetic energy (KE).  Where did the energy initially come from?\n",
    "\n",
    "Well, if we break down the left hand side of the equation:\n",
    "$$F\\Delta s =m g*s$$\n",
    "\n",
    "And we call this potential energy (PE).  Because these quantities are equivalent, they must have the same dimension.  Let us call this product which equals energy Joules, where\n",
    "\n",
    "$$J = N*m$$\n",
    "\n",
    "So in this world, energy defines the movement of mass over a distance.  We notice a few things here: can there be unequal amounts of kinetic energy and potential energy in the setup of this problem?  No.  We can consider the rock at height energy stored, and the rock in motion energy transferred, and based on this definition no more energy can be transferred than what is stored.  \n",
    "\n",
    "So is this all there is to energy?\n",
    "\n",
    "What happens if we need to move the rock back up?  Will it happen on its own? No.  We have to lift the the rock somehow.  How can we lift the rock? Human labor.  How does that work?\n",
    "\n",
    "Thermal Energy: how do we figure out how much thermal energy we need to provide?\n",
    "\n",
    "And then we must ask: how to we get the energy into the working bits.  \n",
    "\n",
    "This is the point of this class: we will spend the remainder of this considering the way in which energy can be transferred from one system to another in the most general terms possible.  \n"
   ]
  },
  {
   "cell_type": "markdown",
   "metadata": {},
   "source": [
    "## Boundaries\n",
    "\n",
    "This example shows us that we can determine a sense of how energy can be converted, but it also shows us that it depends on the context and that there are a lot of ways to get it done. So to figure out which is _best_, we need to set forth a clear methodology for doing our calculations. Let's start with a system.\n",
    "\n",
    "A system, quite simply, is _whatever we want to study_.\n",
    "\n",
    "It can be as simple as a rock, or as complex as a galaxy.  But regardless of how complex a system is there are some important aspects they all share:\n",
    "\n",
    "1. The **system boundary** defines the edge of what we consider in and out of our system\n",
    "2. The **system surroundings** are everything that is outside the system.  In the most pedantic definition that means that the entire universe always defines the system surroundings.  And this is ok, because we are not studying the universe, we are just studying the system, again be it a rock or be it a galaxy.\n",
    "3. Generally, for the purposes of this course, we only care about what happens at the boundary given some assumed homogeneous aspects the system.  This may be confusing right now but will come into focus later.  As we progress in the course it may seem as if we're bending this simplification, but we will likely be analyzing connected systems in sequence.  \n",
    "\n",
    "There are three rough classifications of systems:\n",
    "\n",
    "1. Isolated System: An isolated system is a system that does not interact with its surroundings in any way.  Is this possible in practice?  \n",
    "2. Closed System: A closed system is a system in which mass cannot enter or leave the system, but energy may still be transferred.  Can you think of some examples of a closed system?\n",
    "    - A special case of the closed system is an adiabatic system, in which neither heat nor mass can be transferred, but energy may be transferred.  \n",
    "    - Can a system be truly adiabatic?  \n",
    "    - Can you think of some practical examples of \"adiabatic enough\" systems we use in everyday life?\n",
    "3. Open Systems: open systems are systems allow both mass and heat to pass through boundaries.  Can you think of some examples of an open system?\n",
    "\n",
    "\n",
    "\n"
   ]
  },
  {
   "cell_type": "markdown",
   "metadata": {},
   "source": [
    "## Does History Matter?\n",
    "\n",
    "A property is characteristic of a system that can be given a numerical value without needing to know anything regarding the history of the object.  \n",
    "\n",
    "An intensive property is a property which does not change with system size.  Temperature, pressure, electric potential are examples of intensive properties.  \n",
    "\n",
    "An extensive property is a property which does change with system size.  Mass, volume, electric charge are example of extensive properties.  \n",
    "\n",
    "When properties of a system change, we call this change a process.\n",
    "\n",
    "A state is is condition of a system as defined by its properties.  As we progress in this course we will see that properties are not fully independent, and that *equations of state* can be developed which allows us to set a state by only knowing a subset of all of the possible properties of the system.  This is abstract for now but incredibly powerful in practice: what this means is that by understanding the nature of matter, and measuring a few properties, we can potentially know the value of *all other properties* of the system. This simple statement is still a source of considerable debate between practicing engineers and scientists when discussing work.\n"
   ]
  },
  {
   "cell_type": "markdown",
   "metadata": {},
   "source": [
    "## What is Equilibrium?\n",
    "A simple definition of equilibrium is the condition where a system and its surrounds experience no net change. \n",
    "\n",
    "In thermodynamics, equilibrium is achieved when influences across all domains are balanced against each other.\n",
    "\n",
    "This is a puzzling definition for now, but we can consider thermodynamic equilibrium as the condition where no properties or processes are changing within a system as a function of time.\n"
   ]
  },
  {
   "cell_type": "markdown",
   "metadata": {},
   "source": [
    "## How can we measure Energy?\n",
    "By measuring properties. Based on the above example, to measure the energy transferred, it would be helpful to have\n",
    "- A ruler to measure distance\n",
    "- A scale, to measure mass\n",
    "- A stopwatch, to determine the acceleration due to gravity and velocity\n",
    "\n",
    "As we expand our analysis into different domains, other measurements will be required.  You will be exposed to tools in lab that can measure all of the below.\n",
    "\n",
    "In this class we will use metric units exclusively.  If the book presents you with english units, convert them immediately.    Below is a table of units and some useful equivalences.\n",
    "\n",
    "\n",
    "|Measurement |  Unit | SI Unit | Notes | \n",
    "|------------|-------------------|---------|-------|\n",
    "|Pressure    | Pa                | $N/m^2$ | 1 atm = 101.356 kPa| \n",
    "|Force       | N                 | $kg* m / s^2$|\n",
    "|Temperature | K                 | K | 273.15 K = 0 C|\n",
    "|Electric Potential | V          | |\n",
    "|Electric Charge| A | $C/s$| |\n",
    "|Electric Charge |C | |\n",
    "|Mass | g| | |\n",
    "|Length | m | | |\n",
    "|Energy | J | $N*m$| |\n",
    "|Power  | W | $J/s$| |"
   ]
  },
  {
   "cell_type": "markdown",
   "metadata": {},
   "source": [
    "Some notes on the above\n",
    "- Generally when we measure pressure, we measure the difference against atmosphere.  In engineering terms this is called gauge pressure.  When we refer to pressure, however, we generally use the measurement of pressure against a perfect vacuum, or zero pressure. We refer to this as absolute pressure. Many relations require absolute pressure, it is always best to use absolute pressure in your calculations.\n",
    "- We will interchangeably go between C and K in textbook problems.  Many relations require absolute temperature, it is always safest to convert from C to K.  \n"
   ]
  },
  {
   "cell_type": "markdown",
   "metadata": {},
   "source": [
    "## Conventions\n",
    "Work done on a system is considered a negative quantity.\n",
    "\n",
    "Work done by a system is considered a positive quantity.\n",
    "\n",
    "Heat put into a system is considered a positive quantity.\n",
    "\n",
    "Heat removed from a system is considered a negative quantity. \n",
    "\n",
    "W is work and Q is heat.\n",
    "\n",
    "|Quantity | Into System | Out Of System |\n",
    "|-|-------------|---------------|\n",
    "|Q| + | - |\n",
    "|W| - | + |"
   ]
  },
  {
   "cell_type": "markdown",
   "metadata": {},
   "source": [
    "## Are Work and Heat Properties?\n",
    "Let's consider.  Our definition of a property was that we didn't need to know anything about the history of a system.  We can go in and measure with a tool then and there know the quantitative value.  Can we do that with work?\n",
    "\n",
    "No.  Without knowing the previous state of the system, we have no way of determine the work that was put into or remove from the system.\n",
    "\n",
    "You might say: \"but I know how high the rock is\"\n",
    "\n",
    "Fair enough.  Why is this insufficient?\n",
    "\n",
    "Because we have no idea how the rock got there.  It might have fallen from the moon. \n",
    "Therefore, is heat a property? \n"
   ]
  },
  {
   "cell_type": "markdown",
   "metadata": {},
   "source": [
    "When we speak of changes in work or heat, because they are not properties, we consider these to be inexact differentials.  We use the form $\\delta Q$ and $\\delta W$ to consider these changes.\n",
    "When we consider changes in a property, we use exact differentials.  $dT$, $dV$,$dX$.  If I can directly measure the change in property I use $d$.\n"
   ]
  },
  {
   "cell_type": "raw",
   "metadata": {},
   "source": []
  },
  {
   "cell_type": "markdown",
   "metadata": {},
   "source": [
    "## A simple Energy Relation\n",
    "\n",
    "In this class we will often call upon a simple relation between pressure and volume which can be used to model physical processes that may be difficult to realize, or unreachable ideals that tell us something about the limits of energy transfer.  \n",
    "\n",
    "\n",
    "This is the polytropic process and is defined as\n",
    "\n",
    "$$pV^n=constant$$ \n",
    "\n",
    "What this implies is that a the process constrains the product of pressure and volume to be constant.  The value of n has significant implications on the path and final state.  Can you explore a few extents?\n",
    "\n",
    "What's a convenient way of turning pressure and volume into work?\n",
    "\n",
    "A piston! (draws a piston cylinder assembly)\n",
    "\n",
    "What is special about a piston cylinder assembly.  Let's draw some extents\n",
    "\n",
    "Let's say I don't allow the piston to move.  Can I get any work?  No.  So for this closed system we can say that if \n",
    "\n",
    "$$\\Delta V = 0, W = 0$$\n",
    "\n",
    "Now let's do something useful.  Let's say we have a given piston.\n"
   ]
  },
  {
   "cell_type": "code",
   "execution_count": null,
   "metadata": {},
   "outputs": [],
   "source": []
  }
 ],
 "metadata": {
  "kernelspec": {
   "display_name": "Python 3",
   "language": "python",
   "name": "python3"
  },
  "language_info": {
   "codemirror_mode": {
    "name": "ipython",
    "version": 3
   },
   "file_extension": ".py",
   "mimetype": "text/x-python",
   "name": "python",
   "nbconvert_exporter": "python",
   "pygments_lexer": "ipython3",
   "version": "3.5.2"
  }
 },
 "nbformat": 4,
 "nbformat_minor": 2
}
